{
 "cells": [
  {
   "cell_type": "markdown",
   "metadata": {},
   "source": [
    "# EDM Classification Tutorial: Alexey Fegeding and Dmitriy Chuchuva"
   ]
  },
  {
   "cell_type": "markdown",
   "metadata": {},
   "source": [
    "# Introduction\n",
    "This tutorial will show you how to use data science techniques coupled with machine learning to make a simple machine to classify EDM music by genre and use that to clarify how we define what genre is as well as automatically sort new songs in to an appropriate genre. The best part about this tutorial is that it provides a basic tutorial of all the tools used so that you the user can go on and modify it as they see fit, expand on it, or transfer the knowledge to another project.\n",
    "\n",
    "This tutorial scrapes music samples from [Beatport](https://www.beatport.com/) that fall under the following nine edm genres: trap, dubstep, hardstyle, drum and bass, electro house, progressive house, techno, trance, and big room house. These were chosen because they are some of the most popular genres in edm music. We then process the data and attempt to teach a ML algorithm to classify music given to it in to one of these genres. We want to test if a machine learning algorithm can be taught genre classification as well as show the data lifescycle in action.\n",
    "\n",
    "This classification can also be applied to other types of genres and music. The number of songs and genres chosen will be limited by the hardware available. We chose 9 genres with 165 song samples each in the EDM genre because we both enjoy EDM music and have a server with significant computing power.\n",
    "\n",
    "We will explore the The Data Lifecycle as outlined in [Professor John Dickerson's class taught at the University of Maryland](https://www.cs.umd.edu/class/spring2017/cmsc320/lecs/cmsc320_s2017_lec1.pdf) (slide 6)\n",
    "* [Data Collection](#datacollection)\n",
    "* [Data Processing](#dataprocessing)\n",
    "* [Exploratory Analysis and Data Visualization](#dataviz)\n",
    "* [Analysis, Hypothesis Testing, and Machine Learning](#dataml)\n",
    "* [Insight and Policy Decision](#datainsight)\n"
   ]
  },
  {
   "cell_type": "markdown",
   "metadata": {},
   "source": [
    "# Tutorial Content\n",
    "This tutorial will:\n",
    "* Use [beautiful soup](https://www.crummy.com/software/BeautifulSoup/bs4/doc/) to scrape data from a website (specifically, [beatport](https://www.beatport.com/)).\n",
    "* Use a csv file\n",
    "* Offer options to process said data\n",
    "* Cconvert data in to .wav music files and process the [MFCC features](https://en.wikipedia.org/wiki/Mel-frequency_cepstrum) of those files\n",
    "* Visualize this data and make a few exploratory conclusions\n",
    "* Decide on a null hypothesis\n",
    "* Use machine learning to test the hypothesis\n",
    "* Reject or Accept the null hypothesis\n",
    "* Make a meaningful conclusion\n",
    "* Explore how one can use the skills learned in this tutorial\n",
    "\n"
   ]
  },
  {
   "cell_type": "markdown",
   "metadata": {},
   "source": [
    "# Libraries\n",
    "You will need to install the following libraries.\n",
    "* Numpy\n",
    "* Beautiful Soup\n",
    "* python_speech_features\n",
    "* sklearn\n",
    "* matplotlib"
   ]
  },
  {
   "cell_type": "markdown",
   "metadata": {},
   "source": [
    "# Data Collection<a name=\"datacollection\"></a>\n",
    "\n",
    "We begin collecting our data by examining the beat port website. The website offers a page that lists songs of a specific genre.\n",
    "![Beatport Screenshot 1](tutorial_beatport_screenshot_1.png \"Beatport Screenshot 1\")\n",
    "\n",
    "This page contains an element with the maximum page number and the URL let's us speciy which page we want to load. After opening the web inspect and playing a couple samples, we can see that the songs are loaded from https://geo-samples.beatport.com/lofi/XXXXXXX.LOFI.mp3 where XXXXXXX is the song's id which is stored in the \"data-ec-id\" attribute of each row.\n",
    "\n",
    "![Beatport Screenshot 2](tutorial_beatport_screenshot_2.png \"Beatport Screenshot 2\")\n",
    "![Beatport Screenshot 3](tutorial_beatport_screenshot_3.png \"Beatport Screenshot 3\")\n",
    "\n",
    "So we create a dictionary that contains a mapping where the genre is the key and the URL is value and we move forward from there."
   ]
  },
  {
   "cell_type": "code",
   "execution_count": 1,
   "metadata": {
    "collapsed": false,
    "scrolled": true
   },
   "outputs": [],
   "source": [
    "import requests\n",
    "import random\n",
    "import math\n",
    "import csv\n",
    "from bs4 import BeautifulSoup\n",
    "\n",
    "\n",
    "#https://www.beatport.com/genre/hip-hop-r-and-b/38/tracks?page=1&subgenre=102\n",
    "#https://www.beatport.com/genre/dubstep/18/tracks?page=1\n",
    "#https://www.beatport.com/genre/hard-dance/8/tracks?subgenre=100&page=1\n",
    "#https://www.beatport.com/genre/drum-and-bass/1/tracks?page=1\n",
    "#https://www.beatport.com/genre/electro-house/17/tracks?page=1\n",
    "#https://www.beatport.com/genre/progressive-house/15/tracks?page=\n",
    "#https://www.beatport.com/genre/techno/6/tracks?subgenre=126&page=1\n",
    "#https://www.beatport.com/genre/trance/7/tracks?page=1\n",
    "\n",
    "genreMap = {\n",
    "    \"bigroom\": \"https://www.beatport.com/genre/big-room/79/tracks?page=\",\n",
    "    \"trap\": \"https://www.beatport.com/genre/hip-hop-r-and-b/38/tracks?subgenre=102&page=\",\n",
    "    \"dubstep\": \"https://www.beatport.com/genre/dubstep/18/tracks?page=\",\n",
    "    \"hardstyle\": \"https://www.beatport.com/genre/hard-dance/8/tracks?subgenre=100&page=\" ,\n",
    "    \"drumAndBass\": \"https://www.beatport.com/genre/drum-and-bass/1/tracks?page=\",\n",
    "    \"electroHouse\": \"https://www.beatport.com/genre/electro-house/17/tracks?page=\",\n",
    "    \"progressiveHouse\": \"https://www.beatport.com/genre/progressive-house/15/tracks?page=\",\n",
    "    \"technoElectro\": \"https://www.beatport.com/genre/techno/6/tracks?subgenre=126&page=\",\n",
    "    \"trance\": \"https://www.beatport.com/genre/trance/7/tracks?page=\"\n",
    "}\n"
   ]
  },
  {
   "cell_type": "markdown",
   "metadata": {},
   "source": [
    "Because these songs are pretty large and we were constrained with disk space, we settled with using a sample size of 1485 songs. That comes out to 165 songs per genre (we have 9 genres total). We will be using 32 songs per genre for validation and the remaining 133 will be used for training."
   ]
  },
  {
   "cell_type": "code",
   "execution_count": null,
   "metadata": {
    "collapsed": true
   },
   "outputs": [],
   "source": [
    "maxSamples = 1485\n",
    "samplesPerGenre = math.floor(maxSamples/len(genreMap))\n",
    "\n",
    "songStore = {}"
   ]
  },
  {
   "cell_type": "markdown",
   "metadata": {},
   "source": [
    "Rather than going through each song page consecutively, we decided to choose every song randomly. Mainly because a lot of songs on Beatport are listed in order and we wanted to have some variation among artists that were chosen. So for every genre, we will pick a random page and a random track id. Then we we will save this ID to our songStore. Depending on your internet connection this part will take about 15 minutes to run."
   ]
  },
  {
   "cell_type": "code",
   "execution_count": null,
   "metadata": {
    "collapsed": true
   },
   "outputs": [],
   "source": [
    "for genre, url in genreMap.items():\n",
    "    songStore[genre] = []\n",
    "    \n",
    "    page = 1\n",
    "    rawBeatportRequest = requests.get(url + str(page))\n",
    "    rawBeatportHTML = rawBeatportRequest.content\n",
    "    soup = BeautifulSoup(rawBeatportHTML, \"lxml\")\n",
    "    \n",
    "    maxPage = soup.find_all('a', 'pag-number')[-1].get_text()\n",
    "    \n",
    "    for i in range(0, samplesPerGenre):\n",
    "        randomPage = random.randint(0, int(maxPage))\n",
    "        rawGenrePageRequest = requests.get(url + str(randomPage))\n",
    "        rawGenrePageHTML = rawGenrePageRequest.content\n",
    "        \n",
    "        htmlParser = BeautifulSoup(rawGenrePageHTML, \"lxml\")\n",
    "        \n",
    "        beatportTracks = htmlParser.find_all('li', 'bucket-item ec-item track')\n",
    "        \n",
    "        randomSongNumber = random.randint(0, len(beatportTracks) - 1)\n",
    "        \n",
    "        trackId = beatportTracks[randomSongNumber].get(\"data-ec-id\")\n",
    "        ##make sure we don't choose a duplicate trackId\n",
    "        while trackId in songStore[genre]:\n",
    "            randomPage = random.randint(0, int(maxPage))\n",
    "            rawGenrePageRequest = requests.get(url + str(randomPage))\n",
    "            rawGenrePageHTML = rawGenrePageRequest.content\n",
    "\n",
    "            htmlParser = BeautifulSoup(rawGenrePageHTML, \"lxml\")\n",
    "\n",
    "            beatportTracks = htmlParser.find_all('li', 'bucket-item ec-item track')\n",
    "\n",
    "            randomSongNumber = random.randint(0, len(beatportTracks) - 1)\n",
    "\n",
    "            trackId = beatportTracks[randomSongNumber].get(\"data-ec-id\")\n",
    "        \n",
    "        songStore[genre].append(trackId)"
   ]
  },
  {
   "cell_type": "markdown",
   "metadata": {},
   "source": [
    "For the sake of replication (so that we can share our dataset with you, and so that you don't have to download the track metadata every single run), we will save the track id and genre to a CSV file."
   ]
  },
  {
   "cell_type": "code",
   "execution_count": null,
   "metadata": {
    "collapsed": true
   },
   "outputs": [],
   "source": [
    "with open('songs.csv', 'w') as csvfile:\n",
    "    songCSVWriter = csv.writer(csvfile, delimiter=',')\n",
    "    for genre, songs in songStore.items():\n",
    "        for song in songs:\n",
    "            songCSVWriter.writerow([genre, song])"
   ]
  },
  {
   "cell_type": "markdown",
   "metadata": {},
   "source": [
    "Now that we have collected the id for every track we want download, we can download the actual tracks. This will be about 12 gigabytes of data, so this may take a while and use a lot of bandwidth depending on your internet connection :)"
   ]
  },
  {
   "cell_type": "code",
   "execution_count": 2,
   "metadata": {
    "collapsed": false
   },
   "outputs": [],
   "source": [
    "import os\n",
    "from urllib.request import urlopen\n",
    "\n",
    "baseDownloadUrl = \"http://geo-samples.beatport.com/lofi/\"\n",
    "sampleDir = 'samples/'\n",
    "\n",
    "with open('songs.csv', 'r') as csvfile:\n",
    "    songReader = csv.reader(csvfile, delimiter=',')\n",
    "    for row in songReader:\n",
    "        genre = row[0]\n",
    "        songId = row[1]\n",
    "        #print(genre)\n",
    "        #print(songId)\n",
    "        songUrl = baseDownloadUrl + songId + \".LOFI.mp3\"\n",
    "        mp3file = urlopen(songUrl)\n",
    "        songPath = sampleDir + genre + '/' + songId + '.mp3'\n",
    "        \n",
    "        os.makedirs(os.path.dirname(songPath), exist_ok=True)\n",
    "        with open(songPath, 'wb') as output:\n",
    "            output.write(mp3file.read())"
   ]
  },
  {
   "cell_type": "markdown",
   "metadata": {},
   "source": [
    "# Data Processing<a name=\"dataprocessing\"></a>"
   ]
  },
  {
   "cell_type": "markdown",
   "metadata": {},
   "source": [
    "Once all the songs are downloaded, we must convert them from the MP3 format to the WAV format. In the .WAV format, we will essentially have a raw bit representation of the audio we are hearing. To convert the mp3 files into wav files, make sure you have SOX installed on Ubuntu, run (sudo apt-get install sox). We will then use the following bash script (ran from the parent directory of the samples folder):\n",
    "\n",
    "```\n",
    "for f in samples/**/*.mp3 ; do\n",
    "    printf \"Converting : ${f} ...\"\n",
    "    sox $f ${f%mp3}wav rate 44100 gain -0.1 remix -;\n",
    "    printf \" done!\\n\"\n",
    "done\n",
    "```"
   ]
  },
  {
   "cell_type": "markdown",
   "metadata": {},
   "source": [
    "After converting everything to a WAV file, we will load up our CSV and compute the MFCC features for every song. After computing the MFCCs, we'll write them to a numpy array and save it in a .npz file, so we don't have to re-extract the features every time we want to re-train our model. We must also convert our genre to an integer representation so that we can feed it to our model. We will map integer 0...n-1 to each genre where n is the number of genres we have in total. Practical Cryptography has a very good article about the mathematics behind MFCCs and why they are powerful features to use in automatic speech recognition (see references). We will compute MFCCs using a 25 milisecond window and a 10 milisecond step size (50% overlap), these are the default parameters for python_speech_features."
   ]
  },
  {
   "cell_type": "code",
   "execution_count": 14,
   "metadata": {
    "collapsed": false
   },
   "outputs": [
    {
     "name": "stdout",
     "output_type": "stream",
     "text": [
      "done\n"
     ]
    }
   ],
   "source": [
    "from python_speech_features import mfcc\n",
    "from python_speech_features import logfbank\n",
    "import scipy.io.wavfile as wav\n",
    "import numpy as np\n",
    "\n",
    "def genreToInt(genre):\n",
    "    genreList = list(genreMap)\n",
    "    return genreList.index(genre)\n",
    "\n",
    "with open('songs.csv', 'r') as csvfile:\n",
    "    songReader = csv.reader(csvfile, delimiter=',')\n",
    "    featuresList = []\n",
    "    for row in songReader:\n",
    "        genre = row[0]\n",
    "        songId = row[1]\n",
    "        songPath = sampleDir + genre + '/' + songId + '.wav'\n",
    "        (rate,sig) = wav.read(songPath)\n",
    "        mfcc_feat = mfcc(sig,rate)\n",
    "        \n",
    "        genreFeatures = (genreToInt(genre), mfcc_feat)\n",
    "        featuresList.append(genreFeatures)\n",
    "    \n",
    "    features = np.array(featuresList, dtype=object)\n",
    "    np.savez(\"features.npz\", features)\n",
    "\n",
    "print(\"done\")"
   ]
  },
  {
   "cell_type": "markdown",
   "metadata": {},
   "source": [
    "# Exploratory Analysis and Data Visualization<a name=\"dataviz\"></a>\n",
    "If we inspect one of the MFCCs we see that there are 12005 rows by 13 columns for every song: this equates to 12005x13 features per song. This leads usto believe that it will be difficult and slow to teach a ML algorithm to classify the EDM genres.\n",
    "The null hypothesis we will attempt to reject or accept will be: A machine learning algorithm cannot be used to accurately (>=75%) classify EDM genres in to our nine chosen genres."
   ]
  },
  {
   "cell_type": "code",
   "execution_count": 26,
   "metadata": {
    "collapsed": false
   },
   "outputs": [
    {
     "name": "stdout",
     "output_type": "stream",
     "text": [
      "Track 1 MFCCs\n",
      "[[  4.89319149 -45.98602785  -8.73327696 ...,   6.08155646  14.14889279\n",
      "    7.48245302]\n",
      " [  4.78773886 -39.7851983   -2.40194405 ...,  -8.43889771   3.05990491\n",
      "   11.21720388]\n",
      " [  5.12980783 -22.25192921   2.37662674 ...,   3.69266456  -6.10527061\n",
      "    2.83279036]\n",
      " ..., \n",
      " [ 19.67611435  -5.22563748   2.7053758  ...,  -2.44495684  -6.90002095\n",
      "    7.23860376]\n",
      " [ 18.82508084   6.57507041   1.84635546 ...,   4.48286966 -11.70860081\n",
      "   -9.46573104]\n",
      " [ 18.81307097   4.81207027  -2.84575421 ...,   0.69246709  -6.21548327\n",
      "   -8.60666528]]\n",
      "Rows: 12005\n",
      "Cols: 13\n"
     ]
    }
   ],
   "source": [
    "import numpy as np\n",
    "import math\n",
    "\n",
    "data_tupel_file = np.load(\"features.npz\")\n",
    "data_tupel = data_tupel_file[\"arr_0\"]\n",
    "\n",
    "(genre, mfcc) = data_tupel[0]\n",
    "print(\"Track 1 MFCCs\")\n",
    "print(mfcc)\n",
    "rows, cols = mfcc.shape\n",
    "print(\"Rows: \" + str(rows))\n",
    "print(\"Cols: \" + str(cols))"
   ]
  },
  {
   "cell_type": "markdown",
   "metadata": {},
   "source": [
    "# Analysis, Hypothesis Testing, ML<a name=\"dataml\"></a>\n",
    "We decided to implement three different machine learning algorithms: KNN, a neural network, and a support vector machine.\n",
    "Below we load the data from our npz file and do some more data processing. We remove any songs that are not 2 minutes long; we remove by the number of rows in each song's MFCC matrix. We decided to do this because most songs are 2 minutes long and we lose only a little bit of data. We also split our data in to training and validation on an 80%/20% split. We then reshape the data to fit sklearn's libraries for the three ML algorithms."
   ]
  },
  {
   "cell_type": "code",
   "execution_count": 14,
   "metadata": {
    "collapsed": false,
    "scrolled": true
   },
   "outputs": [],
   "source": [
    "import numpy as np\n",
    "import math\n",
    "from sklearn.neighbors import KNeighborsClassifier\n",
    "\n",
    "#Load our MFCC data which is a giant np array of (genre, mfcc feature)\n",
    "data_tupel_file = np.load(\"features.npz\")\n",
    "data_tupel = data_tupel_file[\"arr_0\"]\n",
    "\n",
    "songSamples = {}\n",
    "for (genre, mfcc) in data_tupel:\n",
    "    num_rows, num_cols = mfcc.shape\n",
    "    try:\n",
    "        if(num_rows == 12005):\n",
    "            songSamples[genre].append(mfcc)\n",
    "    except KeyError:\n",
    "        if(num_rows == 12005):\n",
    "            songSamples[genre] = [mfcc]\n",
    "\n",
    "songValidationSamples = []\n",
    "songValidationLabels = []\n",
    "trainingSamples = []\n",
    "trainingLabels = []\n",
    "for genre, samples in songSamples.items():\n",
    "\n",
    "    splitPoint = math.floor(0.8 * len(samples))\n",
    "\n",
    "    songValidationSamples.extend(samples[splitPoint:])\n",
    "    trainingSamples.extend(samples[:splitPoint])\n",
    "    \n",
    "    for i in range(0, len(samples[splitPoint:])):\n",
    "        songValidationLabels.append(genre)\n",
    "    for i in range(0, len(samples[:splitPoint])):\n",
    "        trainingLabels.append(genre)\n",
    "\n",
    "test_data = np.array(trainingSamples)\n",
    "nsamples, nx, ny = test_data.shape\n",
    "d2_train_dataset = test_data.reshape((nsamples,nx*ny))\n",
    "\n",
    "val_data = np.array(songValidationSamples)\n",
    "nval, nx, ny = val_data.shape\n",
    "d2_val_dataset = val_data.reshape((nval,nx*ny))\n",
    "\n",
    "\n"
   ]
  },
  {
   "cell_type": "markdown",
   "metadata": {},
   "source": [
    "## Neural Network\n",
    "Here we implement sklearn's neural network. We scale the data using the library's standard scaler, train the neural network on our training data, and finally predict on our validation data. We output a confusion matrix which shows the predictions of the network. Unfortunately, our network only has about a 21 percent accuracy here."
   ]
  },
  {
   "cell_type": "code",
   "execution_count": 15,
   "metadata": {
    "collapsed": false
   },
   "outputs": [
    {
     "name": "stdout",
     "output_type": "stream",
     "text": [
      "             precision    recall  f1-score   support\n",
      "\n",
      "          0       0.14      0.16      0.15        32\n",
      "          1       0.00      0.00      0.00        33\n",
      "          2       0.20      0.10      0.13        31\n",
      "          3       0.32      0.39      0.35        31\n",
      "          4       0.29      0.23      0.25        31\n",
      "          5       0.18      0.25      0.21        32\n",
      "          6       0.10      0.06      0.08        31\n",
      "          7       0.40      0.66      0.49        32\n",
      "          8       0.15      0.26      0.19        31\n",
      "\n",
      "avg / total       0.20      0.23      0.21       284\n",
      "\n"
     ]
    },
    {
     "name": "stderr",
     "output_type": "stream",
     "text": [
      "/home/nastya/anaconda3/lib/python3.6/site-packages/sklearn/metrics/classification.py:1113: UndefinedMetricWarning: Precision and F-score are ill-defined and being set to 0.0 in labels with no predicted samples.\n",
      "  'precision', 'predicted', average, warn_for)\n"
     ]
    }
   ],
   "source": [
    "#NNET\n",
    "from sklearn.preprocessing import StandardScaler\n",
    "from sklearn.neural_network import MLPClassifier\n",
    "from sklearn.metrics import classification_report,confusion_matrix\n",
    "\n",
    "#scale the data\n",
    "scaler = StandardScaler()\n",
    "# Fit only to the training data\n",
    "scaler.fit(d2_train_dataset)\n",
    "\n",
    "d2_train_dataset = scaler.transform(d2_train_dataset)\n",
    "d2_val_dataset = scaler.transform(d2_val_dataset)\n",
    "\n",
    "mlp = MLPClassifier(hidden_layer_sizes=(10))\n",
    "mlp.fit(d2_train_dataset,trainingLabels)\n",
    "predictions = mlp.predict(d2_val_dataset)\n",
    "print(classification_report(songValidationLabels,predictions))\n"
   ]
  },
  {
   "cell_type": "markdown",
   "metadata": {},
   "source": [
    "Below, we provide a more graphically appealing confusion matrix with shading to indicate how successful the machine was at guessing each genre."
   ]
  },
  {
   "cell_type": "code",
   "execution_count": 16,
   "metadata": {
    "collapsed": false
   },
   "outputs": [
    {
     "name": "stdout",
     "output_type": "stream",
     "text": [
      "Confusion matrix, without normalization\n"
     ]
    },
    {
     "data": {
      "image/png": "[encoded data removed]",
      "text/plain": [
       "<matplotlib.figure.Figure at 0x7f22048eb940>"
      ]
     },
     "metadata": {},
     "output_type": "display_data"
    }
   ],
   "source": [
    "%matplotlib inline\n",
    "\n",
    "import matplotlib.pyplot as plt\n",
    "import itertools\n",
    "\n",
    "\n",
    "# Plot Confusion Matrix Function from sklearn documentation\n",
    "def plot_confusion_matrix(cm, classes,\n",
    "                          normalize=False,\n",
    "                          title='Confusion matrix',\n",
    "                          cmap=plt.cm.Blues):\n",
    "    \"\"\"\n",
    "    This function prints and plots the confusion matrix.\n",
    "    Normalization can be applied by setting `normalize=True`.\n",
    "    \"\"\"\n",
    "    plt.imshow(cm, interpolation='nearest', cmap=cmap)\n",
    "    plt.title(title)\n",
    "    plt.colorbar()\n",
    "    tick_marks = np.arange(len(classes))\n",
    "    plt.xticks(tick_marks, classes, rotation=45)\n",
    "    plt.yticks(tick_marks, classes)\n",
    "\n",
    "    if normalize:\n",
    "        cm = cm.astype('float') / cm.sum(axis=1)[:, np.newaxis]\n",
    "        print(\"Normalized confusion matrix\")\n",
    "    else:\n",
    "        print('Confusion matrix, without normalization')\n",
    "\n",
    "\n",
    "    thresh = cm.max() / 2.\n",
    "    for i, j in itertools.product(range(cm.shape[0]), range(cm.shape[1])):\n",
    "        plt.text(j, i, cm[i, j],\n",
    "                 horizontalalignment=\"center\",\n",
    "                 color=\"white\" if cm[i, j] > thresh else \"black\")\n",
    "\n",
    "    plt.tight_layout()\n",
    "    plt.ylabel('True label')\n",
    "    plt.xlabel('Predicted label')\n",
    "\n",
    "cnf_matrix = confusion_matrix(songValidationLabels, predictions)\n",
    "# Plot non-normalized confusion matrix\n",
    "plt.figure()\n",
    "plot_confusion_matrix(cnf_matrix, classes=list(genreMap),\n",
    "                      title='Confusion matrix, without normalization')\n",
    "\n"
   ]
  },
  {
   "cell_type": "markdown",
   "metadata": {},
   "source": [
    "## KNN: K Nearest Neighbors\n",
    "Below we run sklearn's KNN algorithm using ks 10 through 15. We find that each is only about 20% accurate in classifying our validation data."
   ]
  },
  {
   "cell_type": "code",
   "execution_count": 17,
   "metadata": {
    "collapsed": false
   },
   "outputs": [
    {
     "name": "stdout",
     "output_type": "stream",
     "text": [
      "K IS 10 ACC IS 0.211267605634\n",
      "K IS 11 ACC IS 0.214788732394\n",
      "K IS 12 ACC IS 0.221830985915\n",
      "K IS 13 ACC IS 0.211267605634\n",
      "K IS 14 ACC IS 0.221830985915\n",
      "========================\n"
     ]
    }
   ],
   "source": [
    "from sklearn.metrics import accuracy_score\n",
    "\n",
    "for k in range(10,15):\n",
    "     neigh = KNeighborsClassifier(n_neighbors=k, weights='distance') ##weights='distance'\n",
    "     neigh.fit(d2_train_dataset, trainingLabels)\n",
    "\n",
    "     predicted = neigh.predict(d2_val_dataset)\n",
    "     acc = accuracy_score(songValidationLabels, predicted)\n",
    "     print(\"K IS \" + str(k) + \" ACC IS \" + str(acc))\n",
    "print(\"========================\")\n"
   ]
  },
  {
   "cell_type": "markdown",
   "metadata": {},
   "source": [
    "## SVM: Support Vector Machine\n",
    "Here we run sklearn's SVM with the default parameters. Again, we find a low accuracy rating on our validation data, yet higher than the other machines at 34%."
   ]
  },
  {
   "cell_type": "code",
   "execution_count": null,
   "metadata": {
    "collapsed": false
   },
   "outputs": [],
   "source": [
    "from sklearn import svm\n",
    "\n",
    "clf = svm.SVC()\n",
    "clf.fit(d2_train_dataset, trainingLabels)"
   ]
  },
  {
   "cell_type": "code",
   "execution_count": 23,
   "metadata": {
    "collapsed": false
   },
   "outputs": [
    {
     "name": "stdout",
     "output_type": "stream",
     "text": [
      "0.345070422535\n",
      "Confusion matrix, without normalization\n"
     ]
    },
    {
     "data": {
      "image/png": "[encoded data removed]",
      "text/plain": [
       "<matplotlib.figure.Figure at 0x7f22075460b8>"
      ]
     },
     "metadata": {},
     "output_type": "display_data"
    }
   ],
   "source": [
    "predicted = clf.predict(d2_val_dataset)\n",
    "acc = accuracy_score(songValidationLabels, predicted)\n",
    "\n",
    "print(acc)\n",
    "cnf_matrix = confusion_matrix(songValidationLabels, predicted)\n",
    "# Plot non-normalized confusion matrix\n",
    "plt.figure()\n",
    "plot_confusion_matrix(cnf_matrix, classes=list(genreMap),\n",
    "                      title='SVM Confusion Matrix')"
   ]
  },
  {
   "cell_type": "markdown",
   "metadata": {},
   "source": [
    "# Insight and Applications<a name=\"datainsight\"></a>\n",
    "We can conclude safely that we accept the null hypothesis because three of our machine learning models were not able to accurately classify the music data in to their correct EDM genre.\n",
    "\n",
    "This may be because the MFCCs simply have too many features to be processed by a machine learning algorithm well. It may also be because the definitions of our chosen EDM genres are very vague. We found with our confusion matrix from the neural net that technoElectro classified very well while other genres were not. The SVM was also good at techno, but also hardstyle. This can indicate that technoElectro and hardstyle are better defined as genres compared to the other genres. We may also simply not have enough data. Alternatively, we found that we could not run the neural net with more than 1000 units in any one hidden layer: more computing power and more data may result in a more accurate neural net.\n"
   ]
  },
  {
   "cell_type": "markdown",
   "metadata": {},
   "source": [
    "# Conclusion\n",
    "Althogh our attempt at creating a music genre classification machine was unsuccessful, we do know that others have been successful and thus we can in the future attempt to emulate them and implement their techniques. This does not mean that our tutorial is ineffective or has no purpose. It is an example of how following the data lifecycle does not always lead to success. The tools used here can still be applied to other projects. We successfully scrape and process data, as well as successfully use sklearn's various machine learning libraries in an attempt to answer a scientific question. We learned that there may need to be a better way to represent music since MFCCs have a very large amount of features. The acceptance of our null hypothesis raises the questions of how other music genre classifiers were developed and under which data sets. We attempted to simply use free music samples where the only data provided was the sample itself and a genre. Were others using data that may already had pre-processed features? Do their machines only really work on data that looks a specific way that may be unrealistic to expect of new music coming in to market? These are the questions that are raised by the \"failure\" of our tutorial to make a definitive conclusion. Finally, science is one of trial and error: data scientists must be comfortable with putting sweat and tears in a project only to be able to make a conclusion that they cannot do it the way they tried. However, their attempt provides ample information, discussion, and practice of their skills."
   ]
  },
  {
   "cell_type": "markdown",
   "metadata": {},
   "source": [
    "# References\n",
    "\n",
    "http://practicalcryptography.com/miscellaneous/machine-learning/guide-mel-frequency-cepstral-coefficients-mfccs/\n",
    "\n",
    "http://cs229.stanford.edu/proj2011/HaggbladeHongKao-MusicGenreClassification.pdf\n",
    "\n",
    "https://github.com/GiantSteps/giantsteps-key-dataset"
   ]
  },
  {
   "cell_type": "code",
   "execution_count": null,
   "metadata": {
    "collapsed": true
   },
   "outputs": [],
   "source": []
  }
 ],
 "metadata": {
  "anaconda-cloud": {},
  "kernelspec": {
   "display_name": "Python 3",
   "language": "python",
   "name": "python3"
  },
  "language_info": {
   "codemirror_mode": {
    "name": "ipython",
    "version": 3
   },
   "file_extension": ".py",
   "mimetype": "text/x-python",
   "name": "python",
   "nbconvert_exporter": "python",
   "pygments_lexer": "ipython3",
   "version": "3.6.0"
  }
 },
 "nbformat": 4,
 "nbformat_minor": 1
}
